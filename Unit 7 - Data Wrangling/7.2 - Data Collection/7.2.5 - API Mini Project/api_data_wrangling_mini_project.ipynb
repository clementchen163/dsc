{
 "cells": [
  {
   "cell_type": "markdown",
   "metadata": {},
   "source": [
    "This exercise will require you to pull some data from https://data.nasdaq.com/ (formerly Quandl API)."
   ]
  },
  {
   "cell_type": "markdown",
   "metadata": {},
   "source": [
    "As a first step, you will need to register a free account on the https://data.nasdaq.com/ website."
   ]
  },
  {
   "cell_type": "markdown",
   "metadata": {},
   "source": [
    "After you register, you will be provided with a unique API key, that you should store:\n",
    "\n",
    "*Note*: Use a `.env` file and put your key in there and `python-dotenv` to access it in this notebook. \n",
    "\n",
    "The code below uses a key that was used when generating this project but has since been deleted. Never submit your keys to source control. There is a `.env-example` file in this repository to illusrtate what you need. Copy that to a file called `.env` and use your own api key in that `.env` file. Make sure you also have a `.gitignore` file with a line for `.env` added to it. \n",
    "\n",
    "The standard Python gitignore is [here](https://github.com/github/gitignore/blob/master/Python.gitignore) you can just copy that. "
   ]
  },
  {
   "cell_type": "code",
   "execution_count": 104,
   "metadata": {},
   "outputs": [],
   "source": [
    "# get api key from your .env file\n",
    "import os\n",
    "from dotenv import load_dotenv\n",
    "\n",
    "load_dotenv()\n",
    "API_KEY = os.getenv('NASDAQ_API_KEY')"
   ]
  },
  {
   "cell_type": "markdown",
   "metadata": {},
   "source": [
    "Nasdaq Data has a large number of data sources, but, unfortunately, most of them require a Premium subscription. Still, there are also a good number of free datasets."
   ]
  },
  {
   "cell_type": "markdown",
   "metadata": {},
   "source": [
    "For this mini project, we will focus on equities data from the Frankfurt Stock Exhange (FSE), which is available for free. We'll try and analyze the stock prices of a company called Carl Zeiss Meditec, which manufactures tools for eye examinations, as well as medical lasers for laser eye surgery: https://www.zeiss.com/meditec/int/home.html. The company is listed under the stock ticker AFX_X."
   ]
  },
  {
   "cell_type": "markdown",
   "metadata": {},
   "source": [
    "You can find the detailed Nasdaq Data API instructions here: https://docs.data.nasdaq.com/docs/in-depth-usage"
   ]
  },
  {
   "cell_type": "markdown",
   "metadata": {},
   "source": [
    "While there is a dedicated Python package for connecting to the Nasdaq API, we would prefer that you use the *requests* package, which can be easily downloaded using *pip* or *conda*. You can find the documentation for the package here: http://docs.python-requests.org/en/master/ "
   ]
  },
  {
   "cell_type": "markdown",
   "metadata": {},
   "source": [
    "Finally, apart from the *requests* package, you are encouraged to not use any third party Python packages, such as *pandas*, and instead focus on what's available in the Python Standard Library (the *collections* module might come in handy: https://pymotw.com/3/collections/).\n",
    "Also, since you won't have access to DataFrames, you are encouraged to us Python's native data structures - preferably dictionaries, though some questions can also be answered using lists.\n",
    "You can read more on these data structures here: https://docs.python.org/3/tutorial/datastructures.html"
   ]
  },
  {
   "cell_type": "markdown",
   "metadata": {},
   "source": [
    "Keep in mind that the JSON responses you will be getting from the API map almost one-to-one to Python's dictionaries. Unfortunately, they can be very nested, so make sure you read up on indexing dictionaries in the documentation provided above."
   ]
  },
  {
   "cell_type": "code",
   "execution_count": 105,
   "metadata": {},
   "outputs": [],
   "source": [
    "# First, import the relevant modules\n",
    "import requests\n",
    "import pandas as pd\n",
    "import collections\n",
    "import numpy as np"
   ]
  },
  {
   "cell_type": "markdown",
   "metadata": {},
   "source": [
    "Note: API's can change a bit with each version, for this exercise it is reccomended to use the nasdaq api at `https://data.nasdaq.com/api/v3/`. This is the same api as what used to be quandl so `https://www.quandl.com/api/v3/` should work too.\n",
    "\n",
    "Hint: We are looking for the `AFX_X` data on the `datasets/FSE/` dataset."
   ]
  },
  {
   "cell_type": "code",
   "execution_count": 106,
   "metadata": {},
   "outputs": [],
   "source": [
    "# Now, call the Nasdaq API and pull out a small sample of the data (only one day) to get a glimpse\n",
    "# into the JSON structure that will be returned\n",
    "url='https://data.nasdaq.com/api/v3/datasets/FSE/AFX_X/data.json'\n",
    "r=requests.get(url+'?limit=1&api_key='+API_KEY)\n",
    "json_data=r.json()"
   ]
  },
  {
   "cell_type": "code",
   "execution_count": 107,
   "metadata": {
    "scrolled": true
   },
   "outputs": [
    {
     "data": {
      "text/plain": [
       "{'dataset_data': {'limit': 1,\n",
       "  'transform': None,\n",
       "  'column_index': None,\n",
       "  'column_names': ['Date',\n",
       "   'Open',\n",
       "   'High',\n",
       "   'Low',\n",
       "   'Close',\n",
       "   'Change',\n",
       "   'Traded Volume',\n",
       "   'Turnover',\n",
       "   'Last Price of the Day',\n",
       "   'Daily Traded Units',\n",
       "   'Daily Turnover'],\n",
       "  'start_date': '2000-06-07',\n",
       "  'end_date': '2020-12-01',\n",
       "  'frequency': 'daily',\n",
       "  'data': [['2020-12-01',\n",
       "    112.2,\n",
       "    112.2,\n",
       "    111.5,\n",
       "    112.0,\n",
       "    None,\n",
       "    51.0,\n",
       "    5703.0,\n",
       "    None,\n",
       "    None,\n",
       "    None]],\n",
       "  'collapse': None,\n",
       "  'order': None}}"
      ]
     },
     "execution_count": 107,
     "metadata": {},
     "output_type": "execute_result"
    }
   ],
   "source": [
    "# Inspect the JSON structure of the object you created, and take note of how nested it is,\n",
    "# as well as the overall structure\n",
    "json_data"
   ]
  },
  {
   "cell_type": "markdown",
   "metadata": {},
   "source": [
    "These are your tasks for this mini project:\n",
    "\n",
    "1. Collect data from the Franfurt Stock Exchange, for the ticker AFX_X, for the whole year 2017 (keep in mind that the date format is YYYY-MM-DD).\n",
    "2. Convert the returned JSON object into a Python dictionary.\n",
    "3. Calculate what the highest and lowest opening prices were for the stock in this period.\n",
    "4. What was the largest change in any one day (based on High and Low price)?\n",
    "5. What was the largest change between any two days (based on Closing Price)?\n",
    "6. What was the average daily trading volume during this year?\n",
    "7. (Optional) What was the median trading volume during this year. (Note: you may need to implement your own function for calculating the median.)"
   ]
  },
  {
   "cell_type": "markdown",
   "metadata": {},
   "source": [
    "1. Collect data from the Franfurt Stock Exchange, for the ticker AFX_X, for the whole year 2017 (keep in mind that the date format is YYYY-MM-DD).\n",
    "2. Convert the returned JSON object into a Python dictionary."
   ]
  },
  {
   "cell_type": "code",
   "execution_count": 108,
   "metadata": {},
   "outputs": [],
   "source": [
    "r=requests.get(url+'?start_date=2017-01-01&end_date=2017-12-31&api_key='+API_KEY)\n",
    "json_data=dict(r.json())\n",
    "column_names=json_data['dataset_data']['column_names']\n",
    "data=json_data['dataset_data']['data']"
   ]
  },
  {
   "cell_type": "code",
   "execution_count": 109,
   "metadata": {},
   "outputs": [
    {
     "data": {
      "text/html": [
       "<div>\n",
       "<style scoped>\n",
       "    .dataframe tbody tr th:only-of-type {\n",
       "        vertical-align: middle;\n",
       "    }\n",
       "\n",
       "    .dataframe tbody tr th {\n",
       "        vertical-align: top;\n",
       "    }\n",
       "\n",
       "    .dataframe thead th {\n",
       "        text-align: right;\n",
       "    }\n",
       "</style>\n",
       "<table border=\"1\" class=\"dataframe\">\n",
       "  <thead>\n",
       "    <tr style=\"text-align: right;\">\n",
       "      <th></th>\n",
       "      <th>Date</th>\n",
       "      <th>Open</th>\n",
       "      <th>High</th>\n",
       "      <th>Low</th>\n",
       "      <th>Close</th>\n",
       "      <th>Change</th>\n",
       "      <th>Traded Volume</th>\n",
       "      <th>Turnover</th>\n",
       "      <th>Last Price of the Day</th>\n",
       "      <th>Daily Traded Units</th>\n",
       "      <th>Daily Turnover</th>\n",
       "    </tr>\n",
       "  </thead>\n",
       "  <tbody>\n",
       "    <tr>\n",
       "      <th>0</th>\n",
       "      <td>2017-12-29</td>\n",
       "      <td>51.76</td>\n",
       "      <td>51.94</td>\n",
       "      <td>51.45</td>\n",
       "      <td>51.76</td>\n",
       "      <td>NaN</td>\n",
       "      <td>34640.0</td>\n",
       "      <td>1792304.0</td>\n",
       "      <td>None</td>\n",
       "      <td>None</td>\n",
       "      <td>None</td>\n",
       "    </tr>\n",
       "    <tr>\n",
       "      <th>1</th>\n",
       "      <td>2017-12-28</td>\n",
       "      <td>51.65</td>\n",
       "      <td>51.82</td>\n",
       "      <td>51.43</td>\n",
       "      <td>51.60</td>\n",
       "      <td>NaN</td>\n",
       "      <td>40660.0</td>\n",
       "      <td>2099024.0</td>\n",
       "      <td>None</td>\n",
       "      <td>None</td>\n",
       "      <td>None</td>\n",
       "    </tr>\n",
       "    <tr>\n",
       "      <th>2</th>\n",
       "      <td>2017-12-27</td>\n",
       "      <td>51.45</td>\n",
       "      <td>51.89</td>\n",
       "      <td>50.76</td>\n",
       "      <td>51.82</td>\n",
       "      <td>NaN</td>\n",
       "      <td>57452.0</td>\n",
       "      <td>2957018.0</td>\n",
       "      <td>None</td>\n",
       "      <td>None</td>\n",
       "      <td>None</td>\n",
       "    </tr>\n",
       "    <tr>\n",
       "      <th>3</th>\n",
       "      <td>2017-12-22</td>\n",
       "      <td>51.05</td>\n",
       "      <td>51.50</td>\n",
       "      <td>50.92</td>\n",
       "      <td>51.32</td>\n",
       "      <td>NaN</td>\n",
       "      <td>71165.0</td>\n",
       "      <td>3641949.0</td>\n",
       "      <td>None</td>\n",
       "      <td>None</td>\n",
       "      <td>None</td>\n",
       "    </tr>\n",
       "    <tr>\n",
       "      <th>4</th>\n",
       "      <td>2017-12-21</td>\n",
       "      <td>51.16</td>\n",
       "      <td>51.52</td>\n",
       "      <td>50.90</td>\n",
       "      <td>51.40</td>\n",
       "      <td>NaN</td>\n",
       "      <td>120649.0</td>\n",
       "      <td>6179433.0</td>\n",
       "      <td>None</td>\n",
       "      <td>None</td>\n",
       "      <td>None</td>\n",
       "    </tr>\n",
       "  </tbody>\n",
       "</table>\n",
       "</div>"
      ],
      "text/plain": [
       "         Date   Open   High    Low  Close  Change  Traded Volume   Turnover  \\\n",
       "0  2017-12-29  51.76  51.94  51.45  51.76     NaN        34640.0  1792304.0   \n",
       "1  2017-12-28  51.65  51.82  51.43  51.60     NaN        40660.0  2099024.0   \n",
       "2  2017-12-27  51.45  51.89  50.76  51.82     NaN        57452.0  2957018.0   \n",
       "3  2017-12-22  51.05  51.50  50.92  51.32     NaN        71165.0  3641949.0   \n",
       "4  2017-12-21  51.16  51.52  50.90  51.40     NaN       120649.0  6179433.0   \n",
       "\n",
       "  Last Price of the Day Daily Traded Units Daily Turnover  \n",
       "0                  None               None           None  \n",
       "1                  None               None           None  \n",
       "2                  None               None           None  \n",
       "3                  None               None           None  \n",
       "4                  None               None           None  "
      ]
     },
     "execution_count": 109,
     "metadata": {},
     "output_type": "execute_result"
    }
   ],
   "source": [
    "df=pd.DataFrame(data, columns=column_names)\n",
    "df.head()"
   ]
  },
  {
   "cell_type": "code",
   "execution_count": 110,
   "metadata": {},
   "outputs": [
    {
     "data": {
      "text/plain": [
       "Date                     False\n",
       "Open                      True\n",
       "High                     False\n",
       "Low                      False\n",
       "Close                    False\n",
       "Change                    True\n",
       "Traded Volume            False\n",
       "Turnover                 False\n",
       "Last Price of the Day     True\n",
       "Daily Traded Units        True\n",
       "Daily Turnover            True\n",
       "dtype: bool"
      ]
     },
     "execution_count": 110,
     "metadata": {},
     "output_type": "execute_result"
    }
   ],
   "source": [
    "df.isna().any()"
   ]
  },
  {
   "cell_type": "markdown",
   "metadata": {},
   "source": [
    "3. Calculate what the highest and lowest opening prices were for the stock in this period."
   ]
  },
  {
   "cell_type": "markdown",
   "metadata": {},
   "source": [
    "The highest opening price is $53.11.\n",
    "The lowest opening price is $34.00"
   ]
  },
  {
   "cell_type": "code",
   "execution_count": 111,
   "metadata": {},
   "outputs": [
    {
     "data": {
      "text/plain": [
       "53.11"
      ]
     },
     "execution_count": 111,
     "metadata": {},
     "output_type": "execute_result"
    }
   ],
   "source": [
    "highest_opening_price=df['Open'].max()\n",
    "highest_opening_price"
   ]
  },
  {
   "cell_type": "code",
   "execution_count": 112,
   "metadata": {},
   "outputs": [
    {
     "data": {
      "text/plain": [
       "34.0"
      ]
     },
     "execution_count": 112,
     "metadata": {},
     "output_type": "execute_result"
    }
   ],
   "source": [
    "lowest_opening_price=df['Open'].min()\n",
    "lowest_opening_price"
   ]
  },
  {
   "cell_type": "markdown",
   "metadata": {},
   "source": [
    "4. What was the largest change in any one day (based on High and Low price)?"
   ]
  },
  {
   "cell_type": "markdown",
   "metadata": {},
   "source": [
    "The largest change in any one day is $2.81"
   ]
  },
  {
   "cell_type": "code",
   "execution_count": 113,
   "metadata": {},
   "outputs": [
    {
     "data": {
      "text/html": [
       "<div>\n",
       "<style scoped>\n",
       "    .dataframe tbody tr th:only-of-type {\n",
       "        vertical-align: middle;\n",
       "    }\n",
       "\n",
       "    .dataframe tbody tr th {\n",
       "        vertical-align: top;\n",
       "    }\n",
       "\n",
       "    .dataframe thead th {\n",
       "        text-align: right;\n",
       "    }\n",
       "</style>\n",
       "<table border=\"1\" class=\"dataframe\">\n",
       "  <thead>\n",
       "    <tr style=\"text-align: right;\">\n",
       "      <th></th>\n",
       "      <th>Date</th>\n",
       "      <th>Open</th>\n",
       "      <th>High</th>\n",
       "      <th>Low</th>\n",
       "      <th>Close</th>\n",
       "      <th>Change</th>\n",
       "      <th>Traded Volume</th>\n",
       "      <th>Turnover</th>\n",
       "      <th>Last Price of the Day</th>\n",
       "      <th>Daily Traded Units</th>\n",
       "      <th>Daily Turnover</th>\n",
       "      <th>Change_high_low</th>\n",
       "    </tr>\n",
       "  </thead>\n",
       "  <tbody>\n",
       "    <tr>\n",
       "      <th>161</th>\n",
       "      <td>2017-05-11</td>\n",
       "      <td>43.40</td>\n",
       "      <td>46.06</td>\n",
       "      <td>43.25</td>\n",
       "      <td>45.00</td>\n",
       "      <td>NaN</td>\n",
       "      <td>189125.0</td>\n",
       "      <td>8496322.0</td>\n",
       "      <td>None</td>\n",
       "      <td>None</td>\n",
       "      <td>None</td>\n",
       "      <td>2.81</td>\n",
       "    </tr>\n",
       "    <tr>\n",
       "      <th>100</th>\n",
       "      <td>2017-08-07</td>\n",
       "      <td>45.85</td>\n",
       "      <td>46.34</td>\n",
       "      <td>44.02</td>\n",
       "      <td>44.96</td>\n",
       "      <td>NaN</td>\n",
       "      <td>164543.0</td>\n",
       "      <td>7378816.0</td>\n",
       "      <td>None</td>\n",
       "      <td>None</td>\n",
       "      <td>None</td>\n",
       "      <td>2.32</td>\n",
       "    </tr>\n",
       "    <tr>\n",
       "      <th>224</th>\n",
       "      <td>2017-02-13</td>\n",
       "      <td>37.37</td>\n",
       "      <td>39.36</td>\n",
       "      <td>37.35</td>\n",
       "      <td>38.53</td>\n",
       "      <td>NaN</td>\n",
       "      <td>177171.0</td>\n",
       "      <td>6804028.0</td>\n",
       "      <td>None</td>\n",
       "      <td>None</td>\n",
       "      <td>None</td>\n",
       "      <td>2.01</td>\n",
       "    </tr>\n",
       "    <tr>\n",
       "      <th>98</th>\n",
       "      <td>2017-08-09</td>\n",
       "      <td>43.50</td>\n",
       "      <td>43.50</td>\n",
       "      <td>41.64</td>\n",
       "      <td>41.81</td>\n",
       "      <td>NaN</td>\n",
       "      <td>355857.0</td>\n",
       "      <td>15003956.0</td>\n",
       "      <td>None</td>\n",
       "      <td>None</td>\n",
       "      <td>None</td>\n",
       "      <td>1.86</td>\n",
       "    </tr>\n",
       "    <tr>\n",
       "      <th>26</th>\n",
       "      <td>2017-11-21</td>\n",
       "      <td>47.25</td>\n",
       "      <td>48.59</td>\n",
       "      <td>46.78</td>\n",
       "      <td>48.39</td>\n",
       "      <td>NaN</td>\n",
       "      <td>78502.0</td>\n",
       "      <td>3782098.0</td>\n",
       "      <td>None</td>\n",
       "      <td>None</td>\n",
       "      <td>None</td>\n",
       "      <td>1.81</td>\n",
       "    </tr>\n",
       "    <tr>\n",
       "      <th>...</th>\n",
       "      <td>...</td>\n",
       "      <td>...</td>\n",
       "      <td>...</td>\n",
       "      <td>...</td>\n",
       "      <td>...</td>\n",
       "      <td>...</td>\n",
       "      <td>...</td>\n",
       "      <td>...</td>\n",
       "      <td>...</td>\n",
       "      <td>...</td>\n",
       "      <td>...</td>\n",
       "      <td>...</td>\n",
       "    </tr>\n",
       "    <tr>\n",
       "      <th>250</th>\n",
       "      <td>2017-01-06</td>\n",
       "      <td>34.91</td>\n",
       "      <td>35.21</td>\n",
       "      <td>34.91</td>\n",
       "      <td>35.04</td>\n",
       "      <td>NaN</td>\n",
       "      <td>27507.0</td>\n",
       "      <td>964046.0</td>\n",
       "      <td>None</td>\n",
       "      <td>None</td>\n",
       "      <td>None</td>\n",
       "      <td>0.30</td>\n",
       "    </tr>\n",
       "    <tr>\n",
       "      <th>203</th>\n",
       "      <td>2017-03-14</td>\n",
       "      <td>41.20</td>\n",
       "      <td>41.50</td>\n",
       "      <td>41.20</td>\n",
       "      <td>41.30</td>\n",
       "      <td>NaN</td>\n",
       "      <td>60420.0</td>\n",
       "      <td>2498025.0</td>\n",
       "      <td>None</td>\n",
       "      <td>None</td>\n",
       "      <td>None</td>\n",
       "      <td>0.30</td>\n",
       "    </tr>\n",
       "    <tr>\n",
       "      <th>227</th>\n",
       "      <td>2017-02-08</td>\n",
       "      <td>35.98</td>\n",
       "      <td>36.14</td>\n",
       "      <td>35.84</td>\n",
       "      <td>36.05</td>\n",
       "      <td>NaN</td>\n",
       "      <td>39731.0</td>\n",
       "      <td>1431205.0</td>\n",
       "      <td>None</td>\n",
       "      <td>None</td>\n",
       "      <td>None</td>\n",
       "      <td>0.30</td>\n",
       "    </tr>\n",
       "    <tr>\n",
       "      <th>145</th>\n",
       "      <td>2017-06-02</td>\n",
       "      <td>46.80</td>\n",
       "      <td>46.99</td>\n",
       "      <td>46.72</td>\n",
       "      <td>46.99</td>\n",
       "      <td>NaN</td>\n",
       "      <td>290.0</td>\n",
       "      <td>13584.0</td>\n",
       "      <td>None</td>\n",
       "      <td>None</td>\n",
       "      <td>None</td>\n",
       "      <td>0.27</td>\n",
       "    </tr>\n",
       "    <tr>\n",
       "      <th>76</th>\n",
       "      <td>2017-09-08</td>\n",
       "      <td>42.70</td>\n",
       "      <td>42.75</td>\n",
       "      <td>42.56</td>\n",
       "      <td>42.67</td>\n",
       "      <td>NaN</td>\n",
       "      <td>59881.0</td>\n",
       "      <td>2553977.0</td>\n",
       "      <td>None</td>\n",
       "      <td>None</td>\n",
       "      <td>None</td>\n",
       "      <td>0.19</td>\n",
       "    </tr>\n",
       "  </tbody>\n",
       "</table>\n",
       "<p>255 rows × 12 columns</p>\n",
       "</div>"
      ],
      "text/plain": [
       "           Date   Open   High    Low  Close  Change  Traded Volume  \\\n",
       "161  2017-05-11  43.40  46.06  43.25  45.00     NaN       189125.0   \n",
       "100  2017-08-07  45.85  46.34  44.02  44.96     NaN       164543.0   \n",
       "224  2017-02-13  37.37  39.36  37.35  38.53     NaN       177171.0   \n",
       "98   2017-08-09  43.50  43.50  41.64  41.81     NaN       355857.0   \n",
       "26   2017-11-21  47.25  48.59  46.78  48.39     NaN        78502.0   \n",
       "..          ...    ...    ...    ...    ...     ...            ...   \n",
       "250  2017-01-06  34.91  35.21  34.91  35.04     NaN        27507.0   \n",
       "203  2017-03-14  41.20  41.50  41.20  41.30     NaN        60420.0   \n",
       "227  2017-02-08  35.98  36.14  35.84  36.05     NaN        39731.0   \n",
       "145  2017-06-02  46.80  46.99  46.72  46.99     NaN          290.0   \n",
       "76   2017-09-08  42.70  42.75  42.56  42.67     NaN        59881.0   \n",
       "\n",
       "       Turnover Last Price of the Day Daily Traded Units Daily Turnover  \\\n",
       "161   8496322.0                  None               None           None   \n",
       "100   7378816.0                  None               None           None   \n",
       "224   6804028.0                  None               None           None   \n",
       "98   15003956.0                  None               None           None   \n",
       "26    3782098.0                  None               None           None   \n",
       "..          ...                   ...                ...            ...   \n",
       "250    964046.0                  None               None           None   \n",
       "203   2498025.0                  None               None           None   \n",
       "227   1431205.0                  None               None           None   \n",
       "145     13584.0                  None               None           None   \n",
       "76    2553977.0                  None               None           None   \n",
       "\n",
       "     Change_high_low  \n",
       "161             2.81  \n",
       "100             2.32  \n",
       "224             2.01  \n",
       "98              1.86  \n",
       "26              1.81  \n",
       "..               ...  \n",
       "250             0.30  \n",
       "203             0.30  \n",
       "227             0.30  \n",
       "145             0.27  \n",
       "76              0.19  \n",
       "\n",
       "[255 rows x 12 columns]"
      ]
     },
     "execution_count": 113,
     "metadata": {},
     "output_type": "execute_result"
    }
   ],
   "source": [
    "df['Change_high_low']=df['High']-df['Low']\n",
    "df.sort_values(by='Change_high_low', ascending=False)"
   ]
  },
  {
   "cell_type": "markdown",
   "metadata": {},
   "source": [
    "5. What was the largest change between any two days (based on Closing Price)?"
   ]
  },
  {
   "cell_type": "markdown",
   "metadata": {},
   "source": [
    "The largest change between any two days is an increase of $3.15"
   ]
  },
  {
   "cell_type": "code",
   "execution_count": 114,
   "metadata": {},
   "outputs": [],
   "source": [
    "change=[]\n",
    "for index,item in df['Close'].items():\n",
    "    if index>1:\n",
    "        change.append(item-df['Close'][index-2])\n",
    "change.sort()"
   ]
  },
  {
   "cell_type": "code",
   "execution_count": 115,
   "metadata": {},
   "outputs": [
    {
     "data": {
      "text/plain": [
       "[-2.280000000000001,\n",
       " -2.1300000000000026,\n",
       " -1.9399999999999977,\n",
       " -1.759999999999998,\n",
       " -1.7100000000000009,\n",
       " -1.7000000000000028,\n",
       " -1.5499999999999972,\n",
       " -1.509999999999998,\n",
       " -1.4799999999999969,\n",
       " -1.4600000000000009,\n",
       " -1.4399999999999977,\n",
       " -1.4199999999999946,\n",
       " -1.4099999999999966,\n",
       " -1.3900000000000006,\n",
       " -1.3099999999999952,\n",
       " -1.2299999999999969,\n",
       " -1.1900000000000048,\n",
       " -1.1599999999999966,\n",
       " -1.1300000000000026,\n",
       " -1.1300000000000026,\n",
       " -1.1099999999999994,\n",
       " -1.1000000000000014,\n",
       " -1.0700000000000003,\n",
       " -1.0399999999999991,\n",
       " -1.0100000000000051,\n",
       " -0.9699999999999989,\n",
       " -0.9500000000000028,\n",
       " -0.9500000000000028,\n",
       " -0.9099999999999966,\n",
       " -0.8800000000000026,\n",
       " -0.8700000000000045,\n",
       " -0.8500000000000014,\n",
       " -0.8300000000000054,\n",
       " -0.8100000000000023,\n",
       " -0.8100000000000023,\n",
       " -0.7899999999999991,\n",
       " -0.769999999999996,\n",
       " -0.769999999999996,\n",
       " -0.75,\n",
       " -0.75,\n",
       " -0.7399999999999949,\n",
       " -0.720000000000006,\n",
       " -0.720000000000006,\n",
       " -0.7199999999999989,\n",
       " -0.7000000000000028,\n",
       " -0.6899999999999977,\n",
       " -0.6700000000000017,\n",
       " -0.6700000000000017,\n",
       " -0.6599999999999966,\n",
       " -0.6499999999999986,\n",
       " -0.6300000000000026,\n",
       " -0.6199999999999974,\n",
       " -0.6099999999999994,\n",
       " -0.6000000000000014,\n",
       " -0.5799999999999983,\n",
       " -0.5700000000000003,\n",
       " -0.5600000000000023,\n",
       " -0.5599999999999952,\n",
       " -0.5499999999999972,\n",
       " -0.5499999999999972,\n",
       " -0.5499999999999972,\n",
       " -0.5399999999999991,\n",
       " -0.5399999999999991,\n",
       " -0.5300000000000011,\n",
       " -0.5200000000000031,\n",
       " -0.509999999999998,\n",
       " -0.5,\n",
       " -0.480000000000004,\n",
       " -0.46999999999999886,\n",
       " -0.46999999999999886,\n",
       " -0.45000000000000284,\n",
       " -0.45000000000000284,\n",
       " -0.45000000000000284,\n",
       " -0.4399999999999977,\n",
       " -0.4299999999999997,\n",
       " -0.4299999999999997,\n",
       " -0.4299999999999997,\n",
       " -0.4200000000000017,\n",
       " -0.4099999999999966,\n",
       " -0.4099999999999966,\n",
       " -0.35999999999999943,\n",
       " -0.35999999999999943,\n",
       " -0.3500000000000014,\n",
       " -0.3500000000000014,\n",
       " -0.3500000000000014,\n",
       " -0.3400000000000034,\n",
       " -0.3400000000000034,\n",
       " -0.3399999999999963,\n",
       " -0.3299999999999983,\n",
       " -0.3299999999999983,\n",
       " -0.3200000000000003,\n",
       " -0.3200000000000003,\n",
       " -0.3100000000000023,\n",
       " -0.3100000000000023,\n",
       " -0.30999999999999517,\n",
       " -0.30000000000000426,\n",
       " -0.30000000000000426,\n",
       " -0.30000000000000426,\n",
       " -0.28999999999999915,\n",
       " -0.28000000000000114,\n",
       " -0.28000000000000114,\n",
       " -0.28000000000000114,\n",
       " -0.269999999999996,\n",
       " -0.269999999999996,\n",
       " -0.2600000000000051,\n",
       " -0.259999999999998,\n",
       " -0.25,\n",
       " -0.240000000000002,\n",
       " -0.240000000000002,\n",
       " -0.23999999999999488,\n",
       " -0.22999999999999687,\n",
       " -0.22000000000000597,\n",
       " -0.21999999999999886,\n",
       " -0.21999999999999886,\n",
       " -0.21999999999999886,\n",
       " -0.21000000000000085,\n",
       " -0.18999999999999773,\n",
       " -0.17999999999999972,\n",
       " -0.1700000000000017,\n",
       " -0.1600000000000037,\n",
       " -0.1600000000000037,\n",
       " -0.15000000000000568,\n",
       " -0.14000000000000057,\n",
       " -0.14000000000000057,\n",
       " -0.14000000000000057,\n",
       " -0.12999999999999545,\n",
       " -0.12000000000000455,\n",
       " -0.11999999999999744,\n",
       " -0.10999999999999943,\n",
       " -0.09000000000000341,\n",
       " -0.0800000000000054,\n",
       " -0.0799999999999983,\n",
       " -0.07000000000000028,\n",
       " -0.05999999999999517,\n",
       " -0.04999999999999716,\n",
       " -0.04999999999999716,\n",
       " -0.04999999999999716,\n",
       " -0.04999999999999716,\n",
       " -0.03999999999999915,\n",
       " -0.03999999999999915,\n",
       " -0.030000000000001137,\n",
       " -0.01999999999999602,\n",
       " -0.01999999999999602,\n",
       " -0.00999999999999801,\n",
       " -0.00999999999999801,\n",
       " 0.0,\n",
       " 0.0,\n",
       " 0.0,\n",
       " 0.0,\n",
       " 0.0,\n",
       " 0.0,\n",
       " 0.0,\n",
       " 0.00999999999999801,\n",
       " 0.00999999999999801,\n",
       " 0.01999999999999602,\n",
       " 0.020000000000003126,\n",
       " 0.020000000000003126,\n",
       " 0.020000000000003126,\n",
       " 0.030000000000001137,\n",
       " 0.030000000000001137,\n",
       " 0.030000000000001137,\n",
       " 0.030000000000001137,\n",
       " 0.04999999999999716,\n",
       " 0.05000000000000426,\n",
       " 0.05000000000000426,\n",
       " 0.060000000000002274,\n",
       " 0.07000000000000028,\n",
       " 0.07000000000000028,\n",
       " 0.07000000000000028,\n",
       " 0.0799999999999983,\n",
       " 0.0799999999999983,\n",
       " 0.10000000000000142,\n",
       " 0.10000000000000142,\n",
       " 0.10999999999999943,\n",
       " 0.10999999999999943,\n",
       " 0.10999999999999943,\n",
       " 0.11999999999999744,\n",
       " 0.13000000000000256,\n",
       " 0.13000000000000256,\n",
       " 0.13999999999999346,\n",
       " 0.14999999999999858,\n",
       " 0.1599999999999966,\n",
       " 0.1600000000000037,\n",
       " 0.1700000000000017,\n",
       " 0.17999999999999972,\n",
       " 0.18999999999999773,\n",
       " 0.20000000000000284,\n",
       " 0.20999999999999375,\n",
       " 0.20999999999999375,\n",
       " 0.21000000000000085,\n",
       " 0.21999999999999886,\n",
       " 0.240000000000002,\n",
       " 0.240000000000002,\n",
       " 0.25,\n",
       " 0.25,\n",
       " 0.25,\n",
       " 0.259999999999998,\n",
       " 0.259999999999998,\n",
       " 0.28000000000000114,\n",
       " 0.28000000000000114,\n",
       " 0.28999999999999915,\n",
       " 0.30999999999999517,\n",
       " 0.3100000000000023,\n",
       " 0.3299999999999983,\n",
       " 0.3400000000000034,\n",
       " 0.3500000000000014,\n",
       " 0.36000000000000654,\n",
       " 0.36999999999999744,\n",
       " 0.39000000000000057,\n",
       " 0.3999999999999986,\n",
       " 0.4100000000000037,\n",
       " 0.4199999999999946,\n",
       " 0.4299999999999997,\n",
       " 0.4399999999999977,\n",
       " 0.4399999999999977,\n",
       " 0.45000000000000284,\n",
       " 0.45000000000000284,\n",
       " 0.480000000000004,\n",
       " 0.4899999999999949,\n",
       " 0.490000000000002,\n",
       " 0.490000000000002,\n",
       " 0.5300000000000011,\n",
       " 0.5600000000000023,\n",
       " 0.5700000000000003,\n",
       " 0.5700000000000003,\n",
       " 0.6099999999999994,\n",
       " 0.6199999999999974,\n",
       " 0.6400000000000006,\n",
       " 0.6499999999999986,\n",
       " 0.6599999999999966,\n",
       " 0.7000000000000028,\n",
       " 0.7299999999999969,\n",
       " 0.7399999999999949,\n",
       " 0.7800000000000011,\n",
       " 0.9000000000000057,\n",
       " 0.9500000000000028,\n",
       " 0.9600000000000009,\n",
       " 0.9699999999999989,\n",
       " 0.9799999999999969,\n",
       " 1.0499999999999972,\n",
       " 1.0800000000000054,\n",
       " 1.1199999999999974,\n",
       " 1.1599999999999966,\n",
       " 1.2899999999999991,\n",
       " 1.2900000000000063,\n",
       " 1.3300000000000054,\n",
       " 1.3499999999999943,\n",
       " 1.5300000000000011,\n",
       " 1.6299999999999955,\n",
       " 2.019999999999996,\n",
       " 2.6899999999999977,\n",
       " 3.030000000000001,\n",
       " 3.1499999999999986]"
      ]
     },
     "execution_count": 115,
     "metadata": {},
     "output_type": "execute_result"
    }
   ],
   "source": [
    "change"
   ]
  },
  {
   "cell_type": "code",
   "execution_count": 116,
   "metadata": {},
   "outputs": [
    {
     "data": {
      "text/plain": [
       "[3.1499999999999986,\n",
       " 3.030000000000001,\n",
       " 2.6899999999999977,\n",
       " 2.019999999999996,\n",
       " 1.6299999999999955,\n",
       " 1.5300000000000011,\n",
       " 1.3499999999999943,\n",
       " 1.3300000000000054,\n",
       " 1.2900000000000063]"
      ]
     },
     "execution_count": 116,
     "metadata": {},
     "output_type": "execute_result"
    }
   ],
   "source": [
    "change[-1:-10:-1]"
   ]
  },
  {
   "cell_type": "markdown",
   "metadata": {},
   "source": [
    "6. What was the average daily trading volume during this year?"
   ]
  },
  {
   "cell_type": "markdown",
   "metadata": {},
   "source": [
    "Average daily trading volume was 89124 units"
   ]
  },
  {
   "cell_type": "code",
   "execution_count": 117,
   "metadata": {},
   "outputs": [
    {
     "data": {
      "text/plain": [
       "89124.33725490196"
      ]
     },
     "execution_count": 117,
     "metadata": {},
     "output_type": "execute_result"
    }
   ],
   "source": [
    "df['Traded Volume'].mean()"
   ]
  },
  {
   "cell_type": "markdown",
   "metadata": {},
   "source": [
    "7. (Optional) What was the median trading volume during this year. (Note: you may need to implement your own function for calculating the median.)"
   ]
  },
  {
   "cell_type": "markdown",
   "metadata": {},
   "source": [
    "The median trading volume was 76286 units"
   ]
  },
  {
   "cell_type": "code",
   "execution_count": 118,
   "metadata": {},
   "outputs": [
    {
     "data": {
      "text/plain": [
       "76286.0"
      ]
     },
     "execution_count": 118,
     "metadata": {},
     "output_type": "execute_result"
    }
   ],
   "source": [
    "df['Traded Volume'].median()"
   ]
  },
  {
   "cell_type": "code",
   "execution_count": null,
   "metadata": {},
   "outputs": [],
   "source": []
  }
 ],
 "metadata": {
  "interpreter": {
   "hash": "7635eb1b9d0fe97add78a7368b6b431c09bb8ad5c42e437d64abdd99821c31ae"
  },
  "kernelspec": {
   "display_name": "Python 3",
   "language": "python",
   "name": "python3"
  },
  "language_info": {
   "codemirror_mode": {
    "name": "ipython",
    "version": 3
   },
   "file_extension": ".py",
   "mimetype": "text/x-python",
   "name": "python",
   "nbconvert_exporter": "python",
   "pygments_lexer": "ipython3",
   "version": "3.8.3"
  }
 },
 "nbformat": 4,
 "nbformat_minor": 4
}
